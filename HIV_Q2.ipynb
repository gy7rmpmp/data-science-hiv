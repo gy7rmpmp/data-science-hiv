{
 "cells": [
  {
   "cell_type": "code",
   "execution_count": 1,
   "id": "526e451c",
   "metadata": {},
   "outputs": [],
   "source": [
    "import matplotlib.pyplot as plt\n",
    "%matplotlib inline\n",
    "# plt.style.available"
   ]
  },
  {
   "cell_type": "code",
   "execution_count": 2,
   "id": "9ce2535d",
   "metadata": {},
   "outputs": [],
   "source": [
    "# File paths\n",
    "import os\n",
    "\n",
    "dirpath  = os.getcwd()\n",
    "datapath = os.path.join(dirpath, 'data') \n",
    "outpath  = os.path.join(dirpath, 'output')\n",
    "# codepath = os.path.join(dirpath, 'code')\n",
    "\n",
    "os.makedirs(datapath, exist_ok = True)\n",
    "os.makedirs(outpath,  exist_ok = True)"
   ]
  },
  {
   "cell_type": "code",
   "execution_count": 3,
   "id": "fbd8e318",
   "metadata": {},
   "outputs": [
    {
     "data": {
      "text/html": [
       "<div>\n",
       "<style scoped>\n",
       "    .dataframe tbody tr th:only-of-type {\n",
       "        vertical-align: middle;\n",
       "    }\n",
       "\n",
       "    .dataframe tbody tr th {\n",
       "        vertical-align: top;\n",
       "    }\n",
       "\n",
       "    .dataframe thead th {\n",
       "        text-align: right;\n",
       "    }\n",
       "</style>\n",
       "<table border=\"1\" class=\"dataframe\">\n",
       "  <thead>\n",
       "    <tr style=\"text-align: right;\">\n",
       "      <th></th>\n",
       "      <th>確定病名</th>\n",
       "      <th>診斷年份</th>\n",
       "      <th>診斷月份</th>\n",
       "      <th>縣市</th>\n",
       "      <th>性別</th>\n",
       "      <th>國籍</th>\n",
       "      <th>年齡層</th>\n",
       "      <th>確定病例數</th>\n",
       "    </tr>\n",
       "  </thead>\n",
       "  <tbody>\n",
       "    <tr>\n",
       "      <th>0</th>\n",
       "      <td>ＨＩＶ感染</td>\n",
       "      <td>2003</td>\n",
       "      <td>1</td>\n",
       "      <td>台中市</td>\n",
       "      <td>F</td>\n",
       "      <td>本國籍</td>\n",
       "      <td>20-24</td>\n",
       "      <td>1</td>\n",
       "    </tr>\n",
       "    <tr>\n",
       "      <th>1</th>\n",
       "      <td>ＨＩＶ感染</td>\n",
       "      <td>2003</td>\n",
       "      <td>1</td>\n",
       "      <td>台中市</td>\n",
       "      <td>F</td>\n",
       "      <td>本國籍</td>\n",
       "      <td>35-39</td>\n",
       "      <td>1</td>\n",
       "    </tr>\n",
       "    <tr>\n",
       "      <th>2</th>\n",
       "      <td>ＨＩＶ感染</td>\n",
       "      <td>2003</td>\n",
       "      <td>1</td>\n",
       "      <td>台中市</td>\n",
       "      <td>M</td>\n",
       "      <td>本國籍</td>\n",
       "      <td>20-24</td>\n",
       "      <td>2</td>\n",
       "    </tr>\n",
       "    <tr>\n",
       "      <th>3</th>\n",
       "      <td>ＨＩＶ感染</td>\n",
       "      <td>2003</td>\n",
       "      <td>1</td>\n",
       "      <td>台中市</td>\n",
       "      <td>M</td>\n",
       "      <td>本國籍</td>\n",
       "      <td>25-29</td>\n",
       "      <td>2</td>\n",
       "    </tr>\n",
       "    <tr>\n",
       "      <th>4</th>\n",
       "      <td>ＨＩＶ感染</td>\n",
       "      <td>2003</td>\n",
       "      <td>1</td>\n",
       "      <td>台中市</td>\n",
       "      <td>M</td>\n",
       "      <td>本國籍</td>\n",
       "      <td>35-39</td>\n",
       "      <td>1</td>\n",
       "    </tr>\n",
       "  </tbody>\n",
       "</table>\n",
       "</div>"
      ],
      "text/plain": [
       "    確定病名  診斷年份  診斷月份   縣市 性別   國籍    年齡層  確定病例數\n",
       "0  ＨＩＶ感染  2003     1  台中市  F  本國籍  20-24      1\n",
       "1  ＨＩＶ感染  2003     1  台中市  F  本國籍  35-39      1\n",
       "2  ＨＩＶ感染  2003     1  台中市  M  本國籍  20-24      2\n",
       "3  ＨＩＶ感染  2003     1  台中市  M  本國籍  25-29      2\n",
       "4  ＨＩＶ感染  2003     1  台中市  M  本國籍  35-39      1"
      ]
     },
     "execution_count": 3,
     "metadata": {},
     "output_type": "execute_result"
    }
   ],
   "source": [
    "# from google.colab import drive\n",
    "# drive.mount('/content/MyGoogleDrive')\n",
    "import pandas as pd\n",
    "df = pd.read_csv('https://od.cdc.gov.tw/eic/Age_County_Gender_044.csv')\n",
    "# df_.set_index('ID', drop=True, inplace=True)\n",
    "df.head()"
   ]
  },
  {
   "cell_type": "code",
   "execution_count": 4,
   "id": "70185dce",
   "metadata": {},
   "outputs": [
    {
     "data": {
      "text/html": [
       "<div>\n",
       "<style scoped>\n",
       "    .dataframe tbody tr th:only-of-type {\n",
       "        vertical-align: middle;\n",
       "    }\n",
       "\n",
       "    .dataframe tbody tr th {\n",
       "        vertical-align: top;\n",
       "    }\n",
       "\n",
       "    .dataframe thead th {\n",
       "        text-align: right;\n",
       "    }\n",
       "</style>\n",
       "<table border=\"1\" class=\"dataframe\">\n",
       "  <thead>\n",
       "    <tr style=\"text-align: right;\">\n",
       "      <th></th>\n",
       "      <th>確定病名</th>\n",
       "      <th>診斷年份</th>\n",
       "      <th>診斷月份</th>\n",
       "      <th>縣市</th>\n",
       "      <th>性別</th>\n",
       "      <th>國籍</th>\n",
       "      <th>年齡層</th>\n",
       "      <th>確定病例數</th>\n",
       "    </tr>\n",
       "  </thead>\n",
       "  <tbody>\n",
       "    <tr>\n",
       "      <th>12928</th>\n",
       "      <td>ＨＩＶ感染</td>\n",
       "      <td>2017</td>\n",
       "      <td>1</td>\n",
       "      <td>台中市</td>\n",
       "      <td>F</td>\n",
       "      <td>本國籍</td>\n",
       "      <td>50-54</td>\n",
       "      <td>1</td>\n",
       "    </tr>\n",
       "    <tr>\n",
       "      <th>12929</th>\n",
       "      <td>ＨＩＶ感染</td>\n",
       "      <td>2017</td>\n",
       "      <td>1</td>\n",
       "      <td>台中市</td>\n",
       "      <td>M</td>\n",
       "      <td>本國籍</td>\n",
       "      <td>15-19</td>\n",
       "      <td>3</td>\n",
       "    </tr>\n",
       "    <tr>\n",
       "      <th>12930</th>\n",
       "      <td>ＨＩＶ感染</td>\n",
       "      <td>2017</td>\n",
       "      <td>1</td>\n",
       "      <td>台中市</td>\n",
       "      <td>M</td>\n",
       "      <td>本國籍</td>\n",
       "      <td>20-24</td>\n",
       "      <td>6</td>\n",
       "    </tr>\n",
       "    <tr>\n",
       "      <th>12931</th>\n",
       "      <td>ＨＩＶ感染</td>\n",
       "      <td>2017</td>\n",
       "      <td>1</td>\n",
       "      <td>台中市</td>\n",
       "      <td>M</td>\n",
       "      <td>本國籍</td>\n",
       "      <td>25-29</td>\n",
       "      <td>9</td>\n",
       "    </tr>\n",
       "    <tr>\n",
       "      <th>12932</th>\n",
       "      <td>ＨＩＶ感染</td>\n",
       "      <td>2017</td>\n",
       "      <td>1</td>\n",
       "      <td>台中市</td>\n",
       "      <td>M</td>\n",
       "      <td>本國籍</td>\n",
       "      <td>30-34</td>\n",
       "      <td>3</td>\n",
       "    </tr>\n",
       "    <tr>\n",
       "      <th>...</th>\n",
       "      <td>...</td>\n",
       "      <td>...</td>\n",
       "      <td>...</td>\n",
       "      <td>...</td>\n",
       "      <td>...</td>\n",
       "      <td>...</td>\n",
       "      <td>...</td>\n",
       "      <td>...</td>\n",
       "    </tr>\n",
       "    <tr>\n",
       "      <th>17264</th>\n",
       "      <td>ＨＩＶ感染</td>\n",
       "      <td>2021</td>\n",
       "      <td>9</td>\n",
       "      <td>彰化縣</td>\n",
       "      <td>M</td>\n",
       "      <td>本國籍</td>\n",
       "      <td>20-24</td>\n",
       "      <td>1</td>\n",
       "    </tr>\n",
       "    <tr>\n",
       "      <th>17265</th>\n",
       "      <td>ＨＩＶ感染</td>\n",
       "      <td>2021</td>\n",
       "      <td>9</td>\n",
       "      <td>彰化縣</td>\n",
       "      <td>M</td>\n",
       "      <td>本國籍</td>\n",
       "      <td>25-29</td>\n",
       "      <td>1</td>\n",
       "    </tr>\n",
       "    <tr>\n",
       "      <th>17266</th>\n",
       "      <td>ＨＩＶ感染</td>\n",
       "      <td>2021</td>\n",
       "      <td>9</td>\n",
       "      <td>彰化縣</td>\n",
       "      <td>M</td>\n",
       "      <td>本國籍</td>\n",
       "      <td>35-39</td>\n",
       "      <td>1</td>\n",
       "    </tr>\n",
       "    <tr>\n",
       "      <th>17267</th>\n",
       "      <td>ＨＩＶ感染</td>\n",
       "      <td>2021</td>\n",
       "      <td>9</td>\n",
       "      <td>彰化縣</td>\n",
       "      <td>M</td>\n",
       "      <td>本國籍</td>\n",
       "      <td>45-49</td>\n",
       "      <td>1</td>\n",
       "    </tr>\n",
       "    <tr>\n",
       "      <th>17268</th>\n",
       "      <td>ＨＩＶ感染</td>\n",
       "      <td>2021</td>\n",
       "      <td>9</td>\n",
       "      <td>彰化縣</td>\n",
       "      <td>M</td>\n",
       "      <td>本國籍</td>\n",
       "      <td>70+</td>\n",
       "      <td>1</td>\n",
       "    </tr>\n",
       "  </tbody>\n",
       "</table>\n",
       "<p>4341 rows × 8 columns</p>\n",
       "</div>"
      ],
      "text/plain": [
       "        確定病名  診斷年份  診斷月份   縣市 性別   國籍    年齡層  確定病例數\n",
       "12928  ＨＩＶ感染  2017     1  台中市  F  本國籍  50-54      1\n",
       "12929  ＨＩＶ感染  2017     1  台中市  M  本國籍  15-19      3\n",
       "12930  ＨＩＶ感染  2017     1  台中市  M  本國籍  20-24      6\n",
       "12931  ＨＩＶ感染  2017     1  台中市  M  本國籍  25-29      9\n",
       "12932  ＨＩＶ感染  2017     1  台中市  M  本國籍  30-34      3\n",
       "...      ...   ...   ...  ... ..  ...    ...    ...\n",
       "17264  ＨＩＶ感染  2021     9  彰化縣  M  本國籍  20-24      1\n",
       "17265  ＨＩＶ感染  2021     9  彰化縣  M  本國籍  25-29      1\n",
       "17266  ＨＩＶ感染  2021     9  彰化縣  M  本國籍  35-39      1\n",
       "17267  ＨＩＶ感染  2021     9  彰化縣  M  本國籍  45-49      1\n",
       "17268  ＨＩＶ感染  2021     9  彰化縣  M  本國籍    70+      1\n",
       "\n",
       "[4341 rows x 8 columns]"
      ]
     },
     "execution_count": 4,
     "metadata": {},
     "output_type": "execute_result"
    }
   ],
   "source": [
    "df = df[df['診斷年份']>2016]\n",
    "df = df[df['診斷年份']<2022]\n",
    "df"
   ]
  },
  {
   "cell_type": "code",
   "execution_count": 5,
   "id": "a524dfc1",
   "metadata": {},
   "outputs": [
    {
     "name": "stdout",
     "output_type": "stream",
     "text": [
      "         hiv  year  month county sex   tw    age  N\n",
      "12928  ＨＩＶ感染  2017      1    台中市   F  本國籍  50-54  1\n",
      "12929  ＨＩＶ感染  2017      1    台中市   M  本國籍  15-19  3\n",
      "12930  ＨＩＶ感染  2017      1    台中市   M  本國籍  20-24  6\n",
      "12931  ＨＩＶ感染  2017      1    台中市   M  本國籍  25-29  9\n",
      "12932  ＨＩＶ感染  2017      1    台中市   M  本國籍  30-34  3\n",
      "...      ...   ...    ...    ...  ..  ...    ... ..\n",
      "17264  ＨＩＶ感染  2021      9    彰化縣   M  本國籍  20-24  1\n",
      "17265  ＨＩＶ感染  2021      9    彰化縣   M  本國籍  25-29  1\n",
      "17266  ＨＩＶ感染  2021      9    彰化縣   M  本國籍  35-39  1\n",
      "17267  ＨＩＶ感染  2021      9    彰化縣   M  本國籍  45-49  1\n",
      "17268  ＨＩＶ感染  2021      9    彰化縣   M  本國籍    70+  1\n",
      "\n",
      "[4341 rows x 8 columns]\n"
     ]
    },
    {
     "data": {
      "text/html": [
       "<div>\n",
       "<style scoped>\n",
       "    .dataframe tbody tr th:only-of-type {\n",
       "        vertical-align: middle;\n",
       "    }\n",
       "\n",
       "    .dataframe tbody tr th {\n",
       "        vertical-align: top;\n",
       "    }\n",
       "\n",
       "    .dataframe thead th {\n",
       "        text-align: right;\n",
       "    }\n",
       "</style>\n",
       "<table border=\"1\" class=\"dataframe\">\n",
       "  <thead>\n",
       "    <tr style=\"text-align: right;\">\n",
       "      <th></th>\n",
       "      <th>hiv</th>\n",
       "      <th>year</th>\n",
       "      <th>month</th>\n",
       "      <th>county</th>\n",
       "      <th>sex</th>\n",
       "      <th>tw</th>\n",
       "      <th>age</th>\n",
       "      <th>N</th>\n",
       "    </tr>\n",
       "  </thead>\n",
       "  <tbody>\n",
       "    <tr>\n",
       "      <th>12928</th>\n",
       "      <td>ＨＩＶ感染</td>\n",
       "      <td>2017</td>\n",
       "      <td>1</td>\n",
       "      <td>台中市</td>\n",
       "      <td>F</td>\n",
       "      <td>本國籍</td>\n",
       "      <td>50-54</td>\n",
       "      <td>1</td>\n",
       "    </tr>\n",
       "    <tr>\n",
       "      <th>12929</th>\n",
       "      <td>ＨＩＶ感染</td>\n",
       "      <td>2017</td>\n",
       "      <td>1</td>\n",
       "      <td>台中市</td>\n",
       "      <td>M</td>\n",
       "      <td>本國籍</td>\n",
       "      <td>15-19</td>\n",
       "      <td>3</td>\n",
       "    </tr>\n",
       "    <tr>\n",
       "      <th>12930</th>\n",
       "      <td>ＨＩＶ感染</td>\n",
       "      <td>2017</td>\n",
       "      <td>1</td>\n",
       "      <td>台中市</td>\n",
       "      <td>M</td>\n",
       "      <td>本國籍</td>\n",
       "      <td>20-24</td>\n",
       "      <td>6</td>\n",
       "    </tr>\n",
       "    <tr>\n",
       "      <th>12931</th>\n",
       "      <td>ＨＩＶ感染</td>\n",
       "      <td>2017</td>\n",
       "      <td>1</td>\n",
       "      <td>台中市</td>\n",
       "      <td>M</td>\n",
       "      <td>本國籍</td>\n",
       "      <td>25-29</td>\n",
       "      <td>9</td>\n",
       "    </tr>\n",
       "    <tr>\n",
       "      <th>12932</th>\n",
       "      <td>ＨＩＶ感染</td>\n",
       "      <td>2017</td>\n",
       "      <td>1</td>\n",
       "      <td>台中市</td>\n",
       "      <td>M</td>\n",
       "      <td>本國籍</td>\n",
       "      <td>30-34</td>\n",
       "      <td>3</td>\n",
       "    </tr>\n",
       "  </tbody>\n",
       "</table>\n",
       "</div>"
      ],
      "text/plain": [
       "         hiv  year  month county sex   tw    age  N\n",
       "12928  ＨＩＶ感染  2017      1    台中市   F  本國籍  50-54  1\n",
       "12929  ＨＩＶ感染  2017      1    台中市   M  本國籍  15-19  3\n",
       "12930  ＨＩＶ感染  2017      1    台中市   M  本國籍  20-24  6\n",
       "12931  ＨＩＶ感染  2017      1    台中市   M  本國籍  25-29  9\n",
       "12932  ＨＩＶ感染  2017      1    台中市   M  本國籍  30-34  3"
      ]
     },
     "execution_count": 5,
     "metadata": {},
     "output_type": "execute_result"
    }
   ],
   "source": [
    " df = df.rename(columns={'確定病名':'hiv','診斷年份':'year','診斷月份':'month','縣市':'county','性別':'sex','國籍':'tw',\n",
    "                          '年齡層':'age','確定病例數':'N'})\n",
    "print(df)\n",
    "df.head()"
   ]
  },
  {
   "cell_type": "code",
   "execution_count": 6,
   "id": "b21ddef6",
   "metadata": {},
   "outputs": [],
   "source": [
    "for i in df.sex: \n",
    "    if i  == 'M': \n",
    "        df.sex.replace(i, 0, inplace = True) \n",
    "    elif i  == 'F':\n",
    "        df.sex.replace(i, 1, inplace = True) \n",
    "        \n",
    "for i in df.age: \n",
    "    if  i  == '0':\n",
    "            df.age.replace(i, 1, inplace = True)\n",
    "    if  i  == '10-14':\n",
    "            df.age.replace(i, 2, inplace = True) \n",
    "    elif i  == '15-19':\n",
    "            df.age.replace(i, 3, inplace = True) \n",
    "    elif i  == '20-24':\n",
    "           df.age.replace(i, 4, inplace = True) \n",
    "    elif i  == '25-29':\n",
    "           df.age.replace(i, 5, inplace = True) \n",
    "    elif i  == '30-34':\n",
    "           df.age.replace(i, 6, inplace = True) \n",
    "    elif i  == '35-39':\n",
    "           df.age.replace(i, 7, inplace = True) \n",
    "    elif i  == '40-44':\n",
    "           df.age.replace(i, 8, inplace = True) \n",
    "    elif i  == '45-49':\n",
    "           df.age.replace(i, 9, inplace = True)\n",
    "    elif i  == '50-54':\n",
    "           df.age.replace(i, 10, inplace = True) \n",
    "    elif i  == '55-59':\n",
    "           df.age.replace(i, 11, inplace = True) \n",
    "    elif i  == '60-64':\n",
    "           df.age.replace(i, 12, inplace = True) \n",
    "    elif i  == '65-69':\n",
    "           df.age.replace(i, 13, inplace = True) \n",
    "    elif i  == '70+':\n",
    "           df.age.replace(i, 14, inplace = True) \n",
    "      \n",
    "for i in df.county: \n",
    "    if  i  == '南投縣':\n",
    "            df.county.replace(i, 1, inplace = True) \n",
    "    elif i  == '台中市':\n",
    "            df.county.replace(i, 2, inplace = True) \n",
    "    elif i  == '台北市':\n",
    "           df.county.replace(i, 3, inplace = True) \n",
    "    elif i  == '台南市':\n",
    "           df.county.replace(i, 4, inplace = True) \n",
    "    elif i  == '台東縣':\n",
    "           df.county.replace(i, 5, inplace = True) \n",
    "    elif i  == '嘉義市':\n",
    "           df.county.replace(i, 6, inplace = True) \n",
    "    elif i  == '嘉義縣':\n",
    "           df.county.replace(i, 7, inplace = True) \n",
    "    elif i  == '基隆市':\n",
    "           df.county.replace(i, 8, inplace = True)\n",
    "    elif i  == '宜蘭縣':\n",
    "           df.county.replace(i, 9, inplace = True) \n",
    "    elif i  == '屏東縣':\n",
    "           df.county.replace(i, 10, inplace = True) \n",
    "    elif i  == '彰化縣':\n",
    "           df.county.replace(i, 11, inplace = True) \n",
    "    elif i  == '新北市':\n",
    "           df.county.replace(i, 12, inplace = True)\n",
    "    elif i  == '新竹市':\n",
    "           df.county.replace(i, 13, inplace = True) \n",
    "    elif i  == '新竹縣':\n",
    "           df.county.replace(i, 14, inplace = True) \n",
    "    elif i  == '桃園市':\n",
    "           df.county.replace(i, 15, inplace = True) \n",
    "    elif i  == '澎湖縣':\n",
    "           df.county.replace(i, 16, inplace = True)\n",
    "    elif i  == '花蓮縣':\n",
    "           df.county.replace(i, 17, inplace = True) \n",
    "    elif i  == '苗栗縣':\n",
    "           df.county.replace(i, 18, inplace = True) \n",
    "    elif i  == '金門縣':\n",
    "           df.county.replace(i, 19, inplace = True) \n",
    "    elif i  == '雲林縣':\n",
    "           df.county.replace(i, 20, inplace = True) \n",
    "    elif i  == '高雄市':\n",
    "           df.county.replace(i, 21, inplace = True) "
   ]
  },
  {
   "cell_type": "code",
   "execution_count": 7,
   "id": "8b5bf3a8",
   "metadata": {
    "scrolled": true
   },
   "outputs": [
    {
     "data": {
      "text/html": [
       "<div>\n",
       "<style scoped>\n",
       "    .dataframe tbody tr th:only-of-type {\n",
       "        vertical-align: middle;\n",
       "    }\n",
       "\n",
       "    .dataframe tbody tr th {\n",
       "        vertical-align: top;\n",
       "    }\n",
       "\n",
       "    .dataframe thead th {\n",
       "        text-align: right;\n",
       "    }\n",
       "</style>\n",
       "<table border=\"1\" class=\"dataframe\">\n",
       "  <thead>\n",
       "    <tr style=\"text-align: right;\">\n",
       "      <th></th>\n",
       "      <th>month</th>\n",
       "      <th>year</th>\n",
       "      <th>N</th>\n",
       "    </tr>\n",
       "  </thead>\n",
       "  <tbody>\n",
       "    <tr>\n",
       "      <th>0</th>\n",
       "      <td>1</td>\n",
       "      <td>2017</td>\n",
       "      <td>200</td>\n",
       "    </tr>\n",
       "    <tr>\n",
       "      <th>1</th>\n",
       "      <td>1</td>\n",
       "      <td>2018</td>\n",
       "      <td>163</td>\n",
       "    </tr>\n",
       "    <tr>\n",
       "      <th>2</th>\n",
       "      <td>1</td>\n",
       "      <td>2019</td>\n",
       "      <td>221</td>\n",
       "    </tr>\n",
       "    <tr>\n",
       "      <th>3</th>\n",
       "      <td>1</td>\n",
       "      <td>2020</td>\n",
       "      <td>116</td>\n",
       "    </tr>\n",
       "    <tr>\n",
       "      <th>4</th>\n",
       "      <td>1</td>\n",
       "      <td>2021</td>\n",
       "      <td>119</td>\n",
       "    </tr>\n",
       "    <tr>\n",
       "      <th>5</th>\n",
       "      <td>2</td>\n",
       "      <td>2017</td>\n",
       "      <td>186</td>\n",
       "    </tr>\n",
       "    <tr>\n",
       "      <th>6</th>\n",
       "      <td>2</td>\n",
       "      <td>2018</td>\n",
       "      <td>121</td>\n",
       "    </tr>\n",
       "    <tr>\n",
       "      <th>7</th>\n",
       "      <td>2</td>\n",
       "      <td>2019</td>\n",
       "      <td>146</td>\n",
       "    </tr>\n",
       "    <tr>\n",
       "      <th>8</th>\n",
       "      <td>2</td>\n",
       "      <td>2020</td>\n",
       "      <td>107</td>\n",
       "    </tr>\n",
       "    <tr>\n",
       "      <th>9</th>\n",
       "      <td>2</td>\n",
       "      <td>2021</td>\n",
       "      <td>90</td>\n",
       "    </tr>\n",
       "    <tr>\n",
       "      <th>10</th>\n",
       "      <td>3</td>\n",
       "      <td>2017</td>\n",
       "      <td>275</td>\n",
       "    </tr>\n",
       "    <tr>\n",
       "      <th>11</th>\n",
       "      <td>3</td>\n",
       "      <td>2018</td>\n",
       "      <td>196</td>\n",
       "    </tr>\n",
       "    <tr>\n",
       "      <th>12</th>\n",
       "      <td>3</td>\n",
       "      <td>2019</td>\n",
       "      <td>163</td>\n",
       "    </tr>\n",
       "    <tr>\n",
       "      <th>13</th>\n",
       "      <td>3</td>\n",
       "      <td>2020</td>\n",
       "      <td>116</td>\n",
       "    </tr>\n",
       "    <tr>\n",
       "      <th>14</th>\n",
       "      <td>3</td>\n",
       "      <td>2021</td>\n",
       "      <td>166</td>\n",
       "    </tr>\n",
       "    <tr>\n",
       "      <th>15</th>\n",
       "      <td>4</td>\n",
       "      <td>2017</td>\n",
       "      <td>209</td>\n",
       "    </tr>\n",
       "    <tr>\n",
       "      <th>16</th>\n",
       "      <td>4</td>\n",
       "      <td>2018</td>\n",
       "      <td>170</td>\n",
       "    </tr>\n",
       "    <tr>\n",
       "      <th>17</th>\n",
       "      <td>4</td>\n",
       "      <td>2019</td>\n",
       "      <td>174</td>\n",
       "    </tr>\n",
       "    <tr>\n",
       "      <th>18</th>\n",
       "      <td>4</td>\n",
       "      <td>2020</td>\n",
       "      <td>131</td>\n",
       "    </tr>\n",
       "    <tr>\n",
       "      <th>19</th>\n",
       "      <td>4</td>\n",
       "      <td>2021</td>\n",
       "      <td>127</td>\n",
       "    </tr>\n",
       "  </tbody>\n",
       "</table>\n",
       "</div>"
      ],
      "text/plain": [
       "    month  year    N\n",
       "0       1  2017  200\n",
       "1       1  2018  163\n",
       "2       1  2019  221\n",
       "3       1  2020  116\n",
       "4       1  2021  119\n",
       "5       2  2017  186\n",
       "6       2  2018  121\n",
       "7       2  2019  146\n",
       "8       2  2020  107\n",
       "9       2  2021   90\n",
       "10      3  2017  275\n",
       "11      3  2018  196\n",
       "12      3  2019  163\n",
       "13      3  2020  116\n",
       "14      3  2021  166\n",
       "15      4  2017  209\n",
       "16      4  2018  170\n",
       "17      4  2019  174\n",
       "18      4  2020  131\n",
       "19      4  2021  127"
      ]
     },
     "execution_count": 7,
     "metadata": {},
     "output_type": "execute_result"
    }
   ],
   "source": [
    "df_s = df.groupby(['month','year'])[['N']].sum().reset_index()\n",
    "df_s.head(20)"
   ]
  },
  {
   "cell_type": "code",
   "execution_count": 8,
   "id": "4eade388",
   "metadata": {},
   "outputs": [
    {
     "data": {
      "image/png": "[encoded data removed]",
      "text/plain": [
       "<Figure size 432x288 with 1 Axes>"
      ]
     },
     "metadata": {
      "needs_background": "light"
     },
     "output_type": "display_data"
    }
   ],
   "source": [
    "df_m = df_s.groupby(['month'])[['N']].mean()\n",
    "color_list = ['#FF0000', '#FF2400', '#FF4D00', '#FFA500', '#FFBF00','#FFD700','#FFFF00','#CCFF00','#66FF00','#00FF00','#7FFFD4','#00FFFF']\n",
    "df_m['N'].plot( kind='bar', rot=45, \\\n",
    "               title='Numbers of HIV', color=color_list)\n",
    "plt.tight_layout()\n",
    "plt.show()"
   ]
  },
  {
   "cell_type": "code",
   "execution_count": 10,
   "id": "fee2c119",
   "metadata": {
    "scrolled": false
   },
   "outputs": [
    {
     "data": {
      "image/png": "[encoded data removed]",
      "text/plain": [
       "<Figure size 432x288 with 1 Axes>"
      ]
     },
     "metadata": {
      "needs_background": "light"
     },
     "output_type": "display_data"
    }
   ],
   "source": [
    "# Comparing mean Length_cm and Weight_g for all Species\n",
    "df_s.plot(kind='scatter', x='month', y='N', c='y', s=30)\n",
    "plt.xlabel(\"proportion of month\")\n",
    "plt.show()"
   ]
  },
  {
   "cell_type": "code",
   "execution_count": 11,
   "id": "ea8afd0f",
   "metadata": {},
   "outputs": [],
   "source": [
    "from sklearn.linear_model import LinearRegression"
   ]
  },
  {
   "cell_type": "code",
   "execution_count": 13,
   "id": "4e95e72d",
   "metadata": {
    "scrolled": true
   },
   "outputs": [],
   "source": [
    "X = df_s[['month']]    # [[feature-list]] for df\n",
    "y = df_s['N']      # [feature] for series"
   ]
  },
  {
   "cell_type": "code",
   "execution_count": 14,
   "id": "3277c93e",
   "metadata": {},
   "outputs": [
    {
     "data": {
      "text/plain": [
       "(60,)"
      ]
     },
     "execution_count": 14,
     "metadata": {},
     "output_type": "execute_result"
    }
   ],
   "source": [
    "y.shape #  (n_samples,) or (n_samples, n_targets)"
   ]
  },
  {
   "cell_type": "code",
   "execution_count": 15,
   "id": "f20a2e68",
   "metadata": {},
   "outputs": [
    {
     "data": {
      "text/plain": [
       "LinearRegression()"
      ]
     },
     "execution_count": 15,
     "metadata": {},
     "output_type": "execute_result"
    }
   ],
   "source": [
    "lm = LinearRegression()      # create a model\n",
    "lm.fit(X, y)                 # train the model"
   ]
  },
  {
   "cell_type": "code",
   "execution_count": 16,
   "id": "0bd8d15d",
   "metadata": {
    "scrolled": true
   },
   "outputs": [
    {
     "name": "stdout",
     "output_type": "stream",
     "text": [
      "linear regression mode: y = f(x) = mx + b\n",
      "m:  [-1.86363636]\n",
      "b:  167.06363636363636\n"
     ]
    }
   ],
   "source": [
    "print('linear regression mode: y = f(x) = mx + b')  \n",
    "print('m: ', lm.coef_)           \n",
    "print('b: ', lm.intercept_)     "
   ]
  },
  {
   "cell_type": "code",
   "execution_count": 17,
   "id": "acea0e15",
   "metadata": {},
   "outputs": [
    {
     "name": "stdout",
     "output_type": "stream",
     "text": [
      "[124.2]\n"
     ]
    }
   ],
   "source": [
    "month = [[23]]        # input features\n",
    "p = lm.predict(month) # predictions\n",
    "print(p) "
   ]
  },
  {
   "cell_type": "code",
   "execution_count": 18,
   "id": "06cf3488",
   "metadata": {
    "scrolled": true
   },
   "outputs": [
    {
     "name": "stdout",
     "output_type": "stream",
     "text": [
      "[124.2        133.51818182  99.97272727]\n"
     ]
    }
   ],
   "source": [
    "month = [[23],[18],[36]]  \n",
    "p = lm.predict(month)     \n",
    "print(p) "
   ]
  },
  {
   "cell_type": "code",
   "execution_count": 19,
   "id": "faff187f",
   "metadata": {
    "scrolled": true
   },
   "outputs": [
    {
     "data": {
      "image/png": "[encoded data removed]",
      "text/plain": [
       "<Figure size 460.8x345.6 with 1 Axes>"
      ]
     },
     "metadata": {
      "needs_background": "light"
     },
     "output_type": "display_data"
    }
   ],
   "source": [
    "# Make a scatter chart of data points\n",
    "fig, ax = plt.subplots(figsize=(6.4,4.8))\n",
    "ax.plot(df_s['month'], y, marker= 'o', linestyle = '', c='y')\n",
    "\n",
    "# Draw the regression line\n",
    "m = lm.coef_\n",
    "b = lm.intercept_\n",
    "p  = [m[0]*x+b for x in df_s['month']]\n",
    "ax.plot(df_s['month'], p, color='r')\n",
    "\n",
    "# Make an annotation\n",
    "ax.annotate('Regression line',\n",
    "            xy=(23, 150), xycoords='data',\n",
    "            xytext=(0.99, 0.6), textcoords='axes fraction',\n",
    "            arrowprops=dict(facecolor='cyan', shrink=0.05),\n",
    "            horizontalalignment='right', verticalalignment='top')\n",
    "plt.grid(axis='y')\n",
    "plt.show()"
   ]
  },
  {
   "cell_type": "code",
   "execution_count": 20,
   "id": "39c530c4",
   "metadata": {},
   "outputs": [
    {
     "name": "stdout",
     "output_type": "stream",
     "text": [
      "0      True\n",
      "1      True\n",
      "2      True\n",
      "3      True\n",
      "4      True\n",
      "5     False\n",
      "6     False\n",
      "7     False\n",
      "8     False\n",
      "9     False\n",
      "10    False\n",
      "11    False\n",
      "12    False\n",
      "13    False\n",
      "14    False\n",
      "15    False\n",
      "16    False\n",
      "17    False\n",
      "18    False\n",
      "19    False\n",
      "20    False\n",
      "21    False\n",
      "22    False\n",
      "23    False\n",
      "24    False\n",
      "25    False\n",
      "26    False\n",
      "27    False\n",
      "28    False\n",
      "29    False\n",
      "30    False\n",
      "31    False\n",
      "32    False\n",
      "33    False\n",
      "34    False\n",
      "35    False\n",
      "36    False\n",
      "37    False\n",
      "38    False\n",
      "39    False\n",
      "40    False\n",
      "41    False\n",
      "42    False\n",
      "43    False\n",
      "44    False\n",
      "45    False\n",
      "46    False\n",
      "47    False\n",
      "48    False\n",
      "49    False\n",
      "50    False\n",
      "51    False\n",
      "52    False\n",
      "53    False\n",
      "54    False\n",
      "55    False\n",
      "56    False\n",
      "57    False\n",
      "58    False\n",
      "59    False\n",
      "Name: month, dtype: bool\n",
      "<class 'pandas.core.frame.DataFrame'>\n",
      "RangeIndex: 60 entries, 0 to 59\n",
      "Data columns (total 3 columns):\n",
      " #   Column  Non-Null Count  Dtype\n",
      "---  ------  --------------  -----\n",
      " 0   month   60 non-null     int64\n",
      " 1   year    60 non-null     int64\n",
      " 2   N       60 non-null     int64\n",
      "dtypes: int64(3)\n",
      "memory usage: 1.5 KB\n"
     ]
    }
   ],
   "source": [
    "print(df_s['month']==1)\n",
    "df_s.info()"
   ]
  },
  {
   "cell_type": "code",
   "execution_count": 21,
   "id": "d1d8bc19",
   "metadata": {},
   "outputs": [
    {
     "data": {
      "image/png": "[encoded data removed]",
      "text/plain": [
       "<Figure size 432x288 with 1 Axes>"
      ]
     },
     "metadata": {
      "needs_background": "light"
     },
     "output_type": "display_data"
    }
   ],
   "source": [
    "plt.boxplot([df_s[df_s['month']==1].N,\n",
    "             df_s[df_s['month']==2].N,\n",
    "             df_s[df_s['month']==3].N,\n",
    "             df_s[df_s['month']==4].N,\n",
    "             df_s[df_s['month']==5].N,\n",
    "             df_s[df_s['month']==6].N,\n",
    "             df_s[df_s['month']==7].N,\n",
    "             df_s[df_s['month']==8].N,\n",
    "             df_s[df_s['month']==9].N,\n",
    "             df_s[df_s['month']==10].N,\n",
    "             df_s[df_s['month']==11].N,\n",
    "             df_s[df_s['month']==12].N], \n",
    "            labels = ['1', '2', '3','4','5','6','7','8','9','10','11','12'])\n",
    "plt.ylabel('Numbers)')\n",
    "plt.show()"
   ]
  },
  {
   "cell_type": "code",
   "execution_count": 22,
   "id": "8bfdc3de",
   "metadata": {},
   "outputs": [
    {
     "data": {
      "text/plain": [
       "(-0.14681146331110512, 0.26298967966215453)"
      ]
     },
     "execution_count": 22,
     "metadata": {},
     "output_type": "execute_result"
    }
   ],
   "source": [
    "import scipy.stats as stats\n",
    "stats.pearsonr(df_s['month'],df_s['N'])"
   ]
  },
  {
   "cell_type": "code",
   "execution_count": 25,
   "id": "3b11ec57",
   "metadata": {
    "scrolled": true
   },
   "outputs": [
    {
     "name": "stdout",
     "output_type": "stream",
     "text": [
      "                                 OLS Regression Results                                \n",
      "=======================================================================================\n",
      "Dep. Variable:                  month   R-squared (uncentered):                   0.691\n",
      "Model:                            OLS   Adj. R-squared (uncentered):              0.685\n",
      "Method:                 Least Squares   F-statistic:                              131.8\n",
      "Date:                Thu, 13 Jan 2022   Prob (F-statistic):                    1.14e-16\n",
      "Time:                        21:17:39   Log-Likelihood:                         -169.69\n",
      "No. Observations:                  60   AIC:                                      341.4\n",
      "Df Residuals:                      59   BIC:                                      343.5\n",
      "Df Model:                           1                                                  \n",
      "Covariance Type:            nonrobust                                                  \n",
      "==============================================================================\n",
      "                 coef    std err          t      P>|t|      [0.025      0.975]\n",
      "------------------------------------------------------------------------------\n",
      "N              0.0380      0.003     11.479      0.000       0.031       0.045\n",
      "==============================================================================\n",
      "Omnibus:                        5.717   Durbin-Watson:                   0.239\n",
      "Prob(Omnibus):                  0.057   Jarque-Bera (JB):                2.288\n",
      "Skew:                          -0.033   Prob(JB):                        0.319\n",
      "Kurtosis:                       2.046   Cond. No.                         1.00\n",
      "==============================================================================\n",
      "\n",
      "Notes:\n",
      "[1] R² is computed without centering (uncentered) since the model does not contain a constant.\n",
      "[2] Standard Errors assume that the covariance matrix of the errors is correctly specified.\n"
     ]
    }
   ],
   "source": [
    "import statsmodels.api as sm\n",
    "est = sm.OLS(df_s['month'],df_s['N']).fit()\n",
    "print (est.summary())"
   ]
  },
  {
   "cell_type": "code",
   "execution_count": null,
   "id": "10d8086c",
   "metadata": {},
   "outputs": [],
   "source": []
  }
 ],
 "metadata": {
  "kernelspec": {
   "display_name": "Python 3",
   "language": "python",
   "name": "python3"
  },
  "language_info": {
   "codemirror_mode": {
    "name": "ipython",
    "version": 3
   },
   "file_extension": ".py",
   "mimetype": "text/x-python",
   "name": "python",
   "nbconvert_exporter": "python",
   "pygments_lexer": "ipython3",
   "version": "3.8.8"
  }
 },
 "nbformat": 4,
 "nbformat_minor": 5
}
