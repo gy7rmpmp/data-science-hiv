{
 "cells": [
  {
   "cell_type": "code",
   "execution_count": 1,
   "id": "8121fba1",
   "metadata": {},
   "outputs": [],
   "source": [
    "import matplotlib.pyplot as plt\n",
    "%matplotlib inline\n",
    "# plt.style.available"
   ]
  },
  {
   "cell_type": "code",
   "execution_count": 2,
   "id": "42a7b0fc",
   "metadata": {},
   "outputs": [],
   "source": [
    "import pandas as pd\n",
    "df = pd.read_csv('https://od.cdc.gov.tw/eic/Age_County_Gender_044.csv')"
   ]
  },
  {
   "cell_type": "code",
   "execution_count": 3,
   "id": "d8742575",
   "metadata": {},
   "outputs": [
    {
     "name": "stdout",
     "output_type": "stream",
     "text": [
      "         hiv  year  month county sex   tw    age  N\n",
      "0      ＨＩＶ感染  2003      1    台中市   F  本國籍  20-24  1\n",
      "1      ＨＩＶ感染  2003      1    台中市   F  本國籍  35-39  1\n",
      "2      ＨＩＶ感染  2003      1    台中市   M  本國籍  20-24  2\n",
      "3      ＨＩＶ感染  2003      1    台中市   M  本國籍  25-29  2\n",
      "4      ＨＩＶ感染  2003      1    台中市   M  本國籍  35-39  1\n",
      "...      ...   ...    ...    ...  ..  ...    ... ..\n",
      "17290  ＨＩＶ感染  2022      1    新北市   M  本國籍  60-64  1\n",
      "17291  ＨＩＶ感染  2022      1    新北市   M  本國籍  65-69  1\n",
      "17292  ＨＩＶ感染  2022      1    新竹縣   M  本國籍  30-34  1\n",
      "17293  ＨＩＶ感染  2022      1    嘉義縣   M  本國籍  20-24  1\n",
      "17294  ＨＩＶ感染  2022      1    嘉義縣   M  本國籍  25-29  1\n",
      "\n",
      "[17295 rows x 8 columns]\n"
     ]
    },
    {
     "data": {
      "text/html": [
       "<div>\n",
       "<style scoped>\n",
       "    .dataframe tbody tr th:only-of-type {\n",
       "        vertical-align: middle;\n",
       "    }\n",
       "\n",
       "    .dataframe tbody tr th {\n",
       "        vertical-align: top;\n",
       "    }\n",
       "\n",
       "    .dataframe thead th {\n",
       "        text-align: right;\n",
       "    }\n",
       "</style>\n",
       "<table border=\"1\" class=\"dataframe\">\n",
       "  <thead>\n",
       "    <tr style=\"text-align: right;\">\n",
       "      <th></th>\n",
       "      <th>hiv</th>\n",
       "      <th>year</th>\n",
       "      <th>month</th>\n",
       "      <th>county</th>\n",
       "      <th>sex</th>\n",
       "      <th>tw</th>\n",
       "      <th>age</th>\n",
       "      <th>N</th>\n",
       "    </tr>\n",
       "  </thead>\n",
       "  <tbody>\n",
       "    <tr>\n",
       "      <th>0</th>\n",
       "      <td>ＨＩＶ感染</td>\n",
       "      <td>2003</td>\n",
       "      <td>1</td>\n",
       "      <td>台中市</td>\n",
       "      <td>F</td>\n",
       "      <td>本國籍</td>\n",
       "      <td>20-24</td>\n",
       "      <td>1</td>\n",
       "    </tr>\n",
       "    <tr>\n",
       "      <th>1</th>\n",
       "      <td>ＨＩＶ感染</td>\n",
       "      <td>2003</td>\n",
       "      <td>1</td>\n",
       "      <td>台中市</td>\n",
       "      <td>F</td>\n",
       "      <td>本國籍</td>\n",
       "      <td>35-39</td>\n",
       "      <td>1</td>\n",
       "    </tr>\n",
       "    <tr>\n",
       "      <th>2</th>\n",
       "      <td>ＨＩＶ感染</td>\n",
       "      <td>2003</td>\n",
       "      <td>1</td>\n",
       "      <td>台中市</td>\n",
       "      <td>M</td>\n",
       "      <td>本國籍</td>\n",
       "      <td>20-24</td>\n",
       "      <td>2</td>\n",
       "    </tr>\n",
       "    <tr>\n",
       "      <th>3</th>\n",
       "      <td>ＨＩＶ感染</td>\n",
       "      <td>2003</td>\n",
       "      <td>1</td>\n",
       "      <td>台中市</td>\n",
       "      <td>M</td>\n",
       "      <td>本國籍</td>\n",
       "      <td>25-29</td>\n",
       "      <td>2</td>\n",
       "    </tr>\n",
       "    <tr>\n",
       "      <th>4</th>\n",
       "      <td>ＨＩＶ感染</td>\n",
       "      <td>2003</td>\n",
       "      <td>1</td>\n",
       "      <td>台中市</td>\n",
       "      <td>M</td>\n",
       "      <td>本國籍</td>\n",
       "      <td>35-39</td>\n",
       "      <td>1</td>\n",
       "    </tr>\n",
       "  </tbody>\n",
       "</table>\n",
       "</div>"
      ],
      "text/plain": [
       "     hiv  year  month county sex   tw    age  N\n",
       "0  ＨＩＶ感染  2003      1    台中市   F  本國籍  20-24  1\n",
       "1  ＨＩＶ感染  2003      1    台中市   F  本國籍  35-39  1\n",
       "2  ＨＩＶ感染  2003      1    台中市   M  本國籍  20-24  2\n",
       "3  ＨＩＶ感染  2003      1    台中市   M  本國籍  25-29  2\n",
       "4  ＨＩＶ感染  2003      1    台中市   M  本國籍  35-39  1"
      ]
     },
     "execution_count": 3,
     "metadata": {},
     "output_type": "execute_result"
    }
   ],
   "source": [
    "df = df.rename(columns={'確定病名':'hiv','診斷年份':'year','診斷月份':'month','縣市':'county','性別':'sex','國籍':'tw',\n",
    "                          '年齡層':'age','確定病例數':'N'})\n",
    "print(df)\n",
    "df.head()"
   ]
  },
  {
   "cell_type": "code",
   "execution_count": 4,
   "id": "dc45c9b5",
   "metadata": {},
   "outputs": [],
   "source": [
    "for i in df.sex: \n",
    "    if i  == 'M': \n",
    "        df.sex.replace(i, 1, inplace = True) \n",
    "    elif i  == 'F':\n",
    "        df.sex.replace(i, 2, inplace = True) \n",
    "        \n",
    "for i in df.age: \n",
    "    if  i  == '0':\n",
    "        df.age.replace(i, 1, inplace = True)\n",
    "    elif i  == '1':\n",
    "        df.age.replace(i, 2, inplace = True)\n",
    "    elif i  == '2':\n",
    "        df.age.replace(i, 2, inplace = True)\n",
    "    elif i  == '3':\n",
    "        df.age.replace(i, 2, inplace = True)\n",
    "    elif i  == '4':\n",
    "        df.age.replace(i, 2, inplace = True)\n",
    "    elif i  == '5-9':\n",
    "        df.age.replace(i, 3, inplace = True) \n",
    "    elif i  == '10-14':\n",
    "        df.age.replace(i, 4, inplace = True) \n",
    "    elif i  == '15-19':\n",
    "        df.age.replace(i, 5, inplace = True) \n",
    "    elif i  == '20-24':\n",
    "        df.age.replace(i, 6, inplace = True) \n",
    "    elif i  == '25-29':\n",
    "        df.age.replace(i, 7, inplace = True) \n",
    "    elif i  == '30-34':\n",
    "        df.age.replace(i, 8, inplace = True) \n",
    "    elif i  == '35-39':\n",
    "        df.age.replace(i, 9, inplace = True) \n",
    "    elif i  == '40-44':\n",
    "        df.age.replace(i, 10, inplace = True) \n",
    "    elif i  == '45-49':\n",
    "        df.age.replace(i, 11, inplace = True)\n",
    "    elif i  == '50-54':\n",
    "        df.age.replace(i, 12, inplace = True) \n",
    "    elif i  == '55-59':\n",
    "        df.age.replace(i, 13, inplace = True) \n",
    "    elif i  == '60-64':\n",
    "        df.age.replace(i, 14, inplace = True) \n",
    "    elif i  == '65-69':\n",
    "        df.age.replace(i, 15, inplace = True) \n",
    "    elif i  == '70+':\n",
    "        df.age.replace(i, 16, inplace = True) \n",
    "\n",
    "for i in df.county: \n",
    "    if i  == '基隆市':\n",
    "        df.county.replace(i, 1, inplace = True) \n",
    "    elif i  == '台北市':\n",
    "        df.county.replace(i, 2, inplace = True) \n",
    "    elif i  == '新北市':\n",
    "        df.county.replace(i, 3, inplace = True) \n",
    "    elif i  == '宜蘭縣':\n",
    "        df.county.replace(i, 4, inplace = True) \n",
    "    elif i  == '桃園市':\n",
    "        df.county.replace(i, 5, inplace = True) \n",
    "    elif i  == '新竹縣':\n",
    "        df.county.replace(i, 6, inplace = True)\n",
    "    elif i  == '新竹市':\n",
    "        df.county.replace(i, 7, inplace = True) \n",
    "    elif i  == '苗栗縣':\n",
    "        df.county.replace(i, 8, inplace = True) \n",
    "    elif i  == '台中市':\n",
    "        df.county.replace(i, 9, inplace = True) \n",
    "    elif i  == '彰化縣':\n",
    "        df.county.replace(i, 10, inplace = True)\n",
    "    elif i  == '南投縣':\n",
    "        df.county.replace(i, 11, inplace = True) \n",
    "    elif i  == '雲林縣':\n",
    "        df.county.replace(i, 12, inplace = True) \n",
    "    elif i  == '嘉義縣':\n",
    "        df.county.replace(i, 13, inplace = True) \n",
    "    elif i  == '嘉義市':\n",
    "        df.county.replace(i, 14, inplace = True)\n",
    "    elif i  == '台南市':\n",
    "        df.county.replace(i, 15, inplace = True) \n",
    "    elif i  == '高雄市':\n",
    "        df.county.replace(i, 16, inplace = True) \n",
    "    elif i  == '屏東縣':\n",
    "        df.county.replace(i, 17, inplace = True) \n",
    "    elif i  == '花蓮縣':\n",
    "        df.county.replace(i, 18, inplace = True) \n",
    "    elif i  == '台東縣':\n",
    "        df.county.replace(i, 19, inplace = True)\n",
    "    elif i  == '連江縣':\n",
    "        df.county.replace(i, 20, inplace = True) \n",
    "    elif i  == '金門縣':\n",
    "        df.county.replace(i, 21, inplace = True)\n",
    "    elif i  == '澎湖縣':\n",
    "        df.county.replace(i, 22, inplace = True) "
   ]
  },
  {
   "cell_type": "code",
   "execution_count": 5,
   "id": "28781286",
   "metadata": {},
   "outputs": [
    {
     "name": "stdout",
     "output_type": "stream",
     "text": [
      "<class 'pandas.core.frame.DataFrame'>\n",
      "RangeIndex: 17295 entries, 0 to 17294\n",
      "Data columns (total 8 columns):\n",
      " #   Column  Non-Null Count  Dtype \n",
      "---  ------  --------------  ----- \n",
      " 0   hiv     17295 non-null  object\n",
      " 1   year    17295 non-null  int64 \n",
      " 2   month   17295 non-null  int64 \n",
      " 3   county  17295 non-null  int64 \n",
      " 4   sex     17295 non-null  int64 \n",
      " 5   tw      17295 non-null  object\n",
      " 6   age     17295 non-null  int64 \n",
      " 7   N       17295 non-null  int64 \n",
      "dtypes: int64(6), object(2)\n",
      "memory usage: 1.1+ MB\n"
     ]
    }
   ],
   "source": [
    "df.info()"
   ]
  },
  {
   "cell_type": "code",
   "execution_count": 6,
   "id": "f438e497",
   "metadata": {},
   "outputs": [
    {
     "data": {
      "text/plain": [
       "hiv       0\n",
       "year      0\n",
       "month     0\n",
       "county    0\n",
       "sex       0\n",
       "tw        0\n",
       "age       0\n",
       "N         0\n",
       "dtype: int64"
      ]
     },
     "execution_count": 6,
     "metadata": {},
     "output_type": "execute_result"
    }
   ],
   "source": [
    "df.isnull().sum()"
   ]
  },
  {
   "cell_type": "code",
   "execution_count": 7,
   "id": "729e712d",
   "metadata": {
    "scrolled": true
   },
   "outputs": [
    {
     "data": {
      "text/html": [
       "<div>\n",
       "<style scoped>\n",
       "    .dataframe tbody tr th:only-of-type {\n",
       "        vertical-align: middle;\n",
       "    }\n",
       "\n",
       "    .dataframe tbody tr th {\n",
       "        vertical-align: top;\n",
       "    }\n",
       "\n",
       "    .dataframe thead th {\n",
       "        text-align: right;\n",
       "    }\n",
       "</style>\n",
       "<table border=\"1\" class=\"dataframe\">\n",
       "  <thead>\n",
       "    <tr style=\"text-align: right;\">\n",
       "      <th></th>\n",
       "      <th>year</th>\n",
       "      <th>month</th>\n",
       "      <th>county</th>\n",
       "      <th>sex</th>\n",
       "      <th>age</th>\n",
       "      <th>N</th>\n",
       "    </tr>\n",
       "  </thead>\n",
       "  <tbody>\n",
       "    <tr>\n",
       "      <th>count</th>\n",
       "      <td>17295.000000</td>\n",
       "      <td>17295.000000</td>\n",
       "      <td>17295.000000</td>\n",
       "      <td>17295.000000</td>\n",
       "      <td>17295.000000</td>\n",
       "      <td>17295.000000</td>\n",
       "    </tr>\n",
       "    <tr>\n",
       "      <th>mean</th>\n",
       "      <td>2011.862272</td>\n",
       "      <td>6.559988</td>\n",
       "      <td>8.899624</td>\n",
       "      <td>1.119456</td>\n",
       "      <td>8.522347</td>\n",
       "      <td>2.264527</td>\n",
       "    </tr>\n",
       "    <tr>\n",
       "      <th>std</th>\n",
       "      <td>5.376514</td>\n",
       "      <td>3.417632</td>\n",
       "      <td>5.533228</td>\n",
       "      <td>0.324334</td>\n",
       "      <td>2.431567</td>\n",
       "      <td>2.300069</td>\n",
       "    </tr>\n",
       "    <tr>\n",
       "      <th>min</th>\n",
       "      <td>2003.000000</td>\n",
       "      <td>1.000000</td>\n",
       "      <td>1.000000</td>\n",
       "      <td>1.000000</td>\n",
       "      <td>1.000000</td>\n",
       "      <td>1.000000</td>\n",
       "    </tr>\n",
       "    <tr>\n",
       "      <th>25%</th>\n",
       "      <td>2007.000000</td>\n",
       "      <td>4.000000</td>\n",
       "      <td>3.000000</td>\n",
       "      <td>1.000000</td>\n",
       "      <td>7.000000</td>\n",
       "      <td>1.000000</td>\n",
       "    </tr>\n",
       "    <tr>\n",
       "      <th>50%</th>\n",
       "      <td>2012.000000</td>\n",
       "      <td>7.000000</td>\n",
       "      <td>9.000000</td>\n",
       "      <td>1.000000</td>\n",
       "      <td>8.000000</td>\n",
       "      <td>1.000000</td>\n",
       "    </tr>\n",
       "    <tr>\n",
       "      <th>75%</th>\n",
       "      <td>2017.000000</td>\n",
       "      <td>10.000000</td>\n",
       "      <td>15.000000</td>\n",
       "      <td>1.000000</td>\n",
       "      <td>10.000000</td>\n",
       "      <td>3.000000</td>\n",
       "    </tr>\n",
       "    <tr>\n",
       "      <th>max</th>\n",
       "      <td>2022.000000</td>\n",
       "      <td>12.000000</td>\n",
       "      <td>22.000000</td>\n",
       "      <td>2.000000</td>\n",
       "      <td>16.000000</td>\n",
       "      <td>27.000000</td>\n",
       "    </tr>\n",
       "  </tbody>\n",
       "</table>\n",
       "</div>"
      ],
      "text/plain": [
       "               year         month        county           sex           age  \\\n",
       "count  17295.000000  17295.000000  17295.000000  17295.000000  17295.000000   \n",
       "mean    2011.862272      6.559988      8.899624      1.119456      8.522347   \n",
       "std        5.376514      3.417632      5.533228      0.324334      2.431567   \n",
       "min     2003.000000      1.000000      1.000000      1.000000      1.000000   \n",
       "25%     2007.000000      4.000000      3.000000      1.000000      7.000000   \n",
       "50%     2012.000000      7.000000      9.000000      1.000000      8.000000   \n",
       "75%     2017.000000     10.000000     15.000000      1.000000     10.000000   \n",
       "max     2022.000000     12.000000     22.000000      2.000000     16.000000   \n",
       "\n",
       "                  N  \n",
       "count  17295.000000  \n",
       "mean       2.264527  \n",
       "std        2.300069  \n",
       "min        1.000000  \n",
       "25%        1.000000  \n",
       "50%        1.000000  \n",
       "75%        3.000000  \n",
       "max       27.000000  "
      ]
     },
     "execution_count": 7,
     "metadata": {},
     "output_type": "execute_result"
    }
   ],
   "source": [
    "df.describe()"
   ]
  },
  {
   "cell_type": "code",
   "execution_count": 8,
   "id": "e1e7ebd0",
   "metadata": {},
   "outputs": [
    {
     "data": {
      "image/png": "[encoded data removed]",
      "text/plain": [
       "<Figure size 864x345.6 with 2 Axes>"
      ]
     },
     "metadata": {
      "needs_background": "light"
     },
     "output_type": "display_data"
    }
   ],
   "source": [
    "# Comparing mean Length_cm and Weight_g for all Species\n",
    "df_s = df.groupby(['county'])[['N', 'sex']].mean()\n",
    "fig, axes = plt.subplots(figsize=(12, 4.8),nrows=1, ncols=2)\n",
    "color_list = ['#FF0000', '#FF2400', '#FF4D00', '#FFA500', '#FFBF00','#FFD700','#FFFF00','#CCFF00','#66FF00','#00FF00','#7FFFD4','#00FFFF','#007FFF','#0000FF','#8B00FF','#4B0080']\n",
    "df_s['N'].plot(ax=axes[0], kind='bar', rot=45, \\\n",
    "               title='Numbers of HIV', color=color_list)\n",
    "df_s['sex'].plot(ax=axes[1], kind='bar', rot=45, \\\n",
    "                    title='Sex Comparison' , color=color_list)\n",
    "plt.tight_layout()\n",
    "plt.show()"
   ]
  },
  {
   "cell_type": "code",
   "execution_count": 9,
   "id": "632beb8c",
   "metadata": {
    "scrolled": true
   },
   "outputs": [
    {
     "name": "stdout",
     "output_type": "stream",
     "text": [
      "0        1.1\n",
      "1        1.4\n",
      "2        2.0\n",
      "3        2.2\n",
      "4        1.5\n",
      "        ... \n",
      "17290    1.0\n",
      "17291    1.0\n",
      "17292    1.0\n",
      "17293    1.0\n",
      "17294    1.0\n",
      "Name: Ns, Length: 17295, dtype: float64 0         9.5\n",
      "1         9.1\n",
      "2         9.0\n",
      "3         9.5\n",
      "4         9.0\n",
      "         ... \n",
      "17290     3.0\n",
      "17291     3.0\n",
      "17292     6.0\n",
      "17293    13.0\n",
      "17294    13.0\n",
      "Name: Cs, Length: 17295, dtype: float64\n"
     ]
    },
    {
     "name": "stderr",
     "output_type": "stream",
     "text": [
      "<ipython-input-9-b6c2afdfc1cd>:6: SettingWithCopyWarning: \n",
      "A value is trying to be set on a copy of a slice from a DataFrame\n",
      "\n",
      "See the caveats in the documentation: https://pandas.pydata.org/pandas-docs/stable/user_guide/indexing.html#returning-a-view-versus-a-copy\n",
      "  df['Ns'][j] += round(0.1*np.random.randint(0,6), 1)\n",
      "<ipython-input-9-b6c2afdfc1cd>:7: SettingWithCopyWarning: \n",
      "A value is trying to be set on a copy of a slice from a DataFrame\n",
      "\n",
      "See the caveats in the documentation: https://pandas.pydata.org/pandas-docs/stable/user_guide/indexing.html#returning-a-view-versus-a-copy\n",
      "  df['Cs'][j] += round(0.1*np.random.randint(0,6), 1)\n"
     ]
    }
   ],
   "source": [
    "import numpy as np \n",
    "df['Ns']=df['N'].astype(float)\n",
    "df['Cs']=df['county'].astype(float)\n",
    "\n",
    "for j in range(272):\n",
    "    df['Ns'][j] += round(0.1*np.random.randint(0,6), 1)\n",
    "    df['Cs'][j] += round(0.1*np.random.randint(0,6), 1)\n",
    "print(df['Ns'],df['Cs'])"
   ]
  },
  {
   "cell_type": "code",
   "execution_count": 10,
   "id": "1749a260",
   "metadata": {
    "scrolled": false
   },
   "outputs": [
    {
     "name": "stdout",
     "output_type": "stream",
     "text": [
      "{6: '#FF0000', 9: '#FF2400', 7: '#FF4D00', 11: '#FFA500', 8: '#FFBF00', 12: '#FFD700', 10: '#FFFF00', 5: '#CCFF00', 13: '#66FF00', 16: '#00FF00', 15: '#7FFFD4', 14: '#00FFFF', 3: '#007FFF', 4: '#0000FF', 1: '#8B00FF', 2: '#4B0080'}\n"
     ]
    },
    {
     "data": {
      "image/png": "[encoded data removed]",
      "text/plain": [
       "<Figure size 576x432 with 1 Axes>"
      ]
     },
     "metadata": {
      "needs_background": "light"
     },
     "output_type": "display_data"
    }
   ],
   "source": [
    "color_list = ['#FF0000', '#FF2400', '#FF4D00', '#FFA500', '#FFBF00','#FFD700','#FFFF00','#CCFF00','#66FF00','#00FF00','#7FFFD4','#00FFFF','#007FFF','#0000FF','#8B00FF','#4B0080','#800080','#B85798','#C71585','#FF0DA6','#FF00FF','#FFD9E6']\n",
    "county_list = df['age'].unique().tolist() # get kinds of species \n",
    "cmap = dict(zip(county_list, color_list))\n",
    "print(cmap)\n",
    "# Assign each Species to a differnet color\n",
    "df['color'] = df['age'].map(cmap)\n",
    "\n",
    "df.plot(kind='scatter',x = 'Cs', y = 'Ns', figsize=(8,6),\n",
    "        title='Numbers vs. County', s=30, color=df['color'])\n",
    "\n",
    "plt.tight_layout()\n",
    "plt.show()"
   ]
  },
  {
   "cell_type": "code",
   "execution_count": 11,
   "id": "9be8c975",
   "metadata": {},
   "outputs": [
    {
     "data": {
      "image/png": "[encoded data removed]",
      "text/plain": [
       "<Figure size 576x432 with 1 Axes>"
      ]
     },
     "metadata": {
      "needs_background": "light"
     },
     "output_type": "display_data"
    }
   ],
   "source": [
    "groups = df.groupby(['age'])\n",
    "plt.figure(figsize=(8,6))\n",
    "\n",
    "for name, group in groups:\n",
    "    plt.plot(group[\"county\"],group['N'],  marker='o', linestyle=\"\", label=name)\n",
    "\n",
    "plt.legend()\n",
    "plt.xlabel(\"countys\")\n",
    "plt.ylabel(\"Numbers\")\n",
    "plt.show()"
   ]
  },
  {
   "cell_type": "code",
   "execution_count": null,
   "id": "a5d87159",
   "metadata": {},
   "outputs": [],
   "source": []
  }
 ],
 "metadata": {
  "kernelspec": {
   "display_name": "Python 3",
   "language": "python",
   "name": "python3"
  },
  "language_info": {
   "codemirror_mode": {
    "name": "ipython",
    "version": 3
   },
   "file_extension": ".py",
   "mimetype": "text/x-python",
   "name": "python",
   "nbconvert_exporter": "python",
   "pygments_lexer": "ipython3",
   "version": "3.8.8"
  }
 },
 "nbformat": 4,
 "nbformat_minor": 5
}
